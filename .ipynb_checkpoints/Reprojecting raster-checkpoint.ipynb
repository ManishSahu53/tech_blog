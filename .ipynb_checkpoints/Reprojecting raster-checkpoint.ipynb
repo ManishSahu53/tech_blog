{
 "cells": [
  {
   "cell_type": "markdown",
   "metadata": {},
   "source": [
    "# Importing libraries"
   ]
  },
  {
   "cell_type": "code",
   "execution_count": 15,
   "metadata": {},
   "outputs": [],
   "source": [
    "import gdal\n",
    "import numpy\n",
    "import osr\n",
    "import matplotlib.pyplot as plt"
   ]
  },
  {
   "cell_type": "markdown",
   "metadata": {},
   "source": [
    "# Supporting Functions\n",
    "## EPSG code from raster datasource"
   ]
  },
  {
   "cell_type": "code",
   "execution_count": 2,
   "metadata": {},
   "outputs": [],
   "source": [
    "# Defining some functions\n",
    "def get_EPSG(rast_obj):\n",
    "    \"\"\"\n",
    "    Returns the EPSG code from a given input georeferenced image or virtual\n",
    "    raster gdal object.\n",
    "    \"\"\"\n",
    "    wkt = rast_obj.GetProjection()\n",
    "    epsg = wkt2epsg(wkt)\n",
    "\n",
    "    return epsg"
   ]
  },
  {
   "cell_type": "markdown",
   "metadata": {},
   "source": [
    "## wkt to epsg conversion"
   ]
  },
  {
   "cell_type": "code",
   "execution_count": 3,
   "metadata": {},
   "outputs": [],
   "source": [
    "def wkt2epsg(wkt):\n",
    "\n",
    "    \"\"\"\n",
    "    From https://gis.stackexchange.com/questions/20298/is-it-possible-to-get-the-epsg-value-from-an-osr-spatialreference-class-using-th\n",
    "    Transform a WKT string to an EPSG code\n",
    "\n",
    "    Arguments\n",
    "    ---------\n",
    "\n",
    "    wkt: WKT definition\n",
    "\n",
    "    Returns: EPSG code\n",
    "\n",
    "    \"\"\"\n",
    "\n",
    "    p_in = osr.SpatialReference()\n",
    "    s = p_in.ImportFromWkt(wkt)\n",
    "    if s == 5:  # invalid WKT\n",
    "        return None\n",
    "    if p_in.IsLocal() == 1:  # this is a local definition\n",
    "        return p_in.ExportToWkt()\n",
    "    if p_in.IsGeographic() == 1:  # this is a geographic srs\n",
    "        cstype = 'GEOGCS'\n",
    "    else:  # this is a projected srs\n",
    "        cstype = 'PROJCS'\n",
    "    an = p_in.GetAuthorityName(cstype)\n",
    "    ac = p_in.GetAuthorityCode(cstype)\n",
    "    if an is not None and ac is not None:  # return the EPSG code\n",
    "        return int(p_in.GetAuthorityCode(cstype))"
   ]
  },
  {
   "cell_type": "markdown",
   "metadata": {},
   "source": [
    "## Path location of raster dataset\n",
    "### Reading attributes of raster dataset"
   ]
  },
  {
   "cell_type": "code",
   "execution_count": 4,
   "metadata": {},
   "outputs": [],
   "source": [
    "path_tif = 'data/City.tif'"
   ]
  },
  {
   "cell_type": "code",
   "execution_count": 5,
   "metadata": {},
   "outputs": [
    {
     "name": "stdout",
     "output_type": "stream",
     "text": [
      "<osgeo.gdal.Dataset; proxy of <Swig Object of type 'GDALDatasetShadow *' at 0x109d4fba0> >\n"
     ]
    }
   ],
   "source": [
    "src_ds = gdal.Open(path_tif)\n",
    "print(src_ds)"
   ]
  },
  {
   "cell_type": "code",
   "execution_count": 6,
   "metadata": {},
   "outputs": [
    {
     "name": "stdout",
     "output_type": "stream",
     "text": [
      "Number of bands in source dataset: 3\n"
     ]
    }
   ],
   "source": [
    "num_band = src_ds.RasterCount\n",
    "print('Number of bands in source dataset: %d'%(num_band))"
   ]
  },
  {
   "cell_type": "code",
   "execution_count": 7,
   "metadata": {},
   "outputs": [
    {
     "name": "stdout",
     "output_type": "stream",
     "text": [
      "Size of raster : 45276 x , 24557 y\n"
     ]
    }
   ],
   "source": [
    "xsize = src_ds.RasterXSize\n",
    "ysize = src_ds.RasterYSize\n",
    "print('Size of raster : %d x , %d y'%(xsize, ysize))"
   ]
  },
  {
   "cell_type": "code",
   "execution_count": 8,
   "metadata": {},
   "outputs": [
    {
     "name": "stdout",
     "output_type": "stream",
     "text": [
      "Pixel size of raster dataset: 0.079250\n"
     ]
    }
   ],
   "source": [
    "resolution = src_ds.GetGeoTransform()\n",
    "print('Pixel size of raster dataset: %f'%(resolution[1]))"
   ]
  },
  {
   "cell_type": "code",
   "execution_count": 9,
   "metadata": {},
   "outputs": [],
   "source": [
    "projection = src_ds.GetProjection()"
   ]
  },
  {
   "cell_type": "markdown",
   "metadata": {},
   "source": [
    "### Converting raster projection to epsg code"
   ]
  },
  {
   "cell_type": "code",
   "execution_count": 10,
   "metadata": {
    "scrolled": true
   },
   "outputs": [
    {
     "name": "stdout",
     "output_type": "stream",
     "text": [
      "EPSG projeciton code of raster dataset: 32721\n"
     ]
    }
   ],
   "source": [
    "epsg_code = get_EPSG(src_ds)\n",
    "print('EPSG projeciton code of raster dataset: %d'%(epsg_code))"
   ]
  },
  {
   "cell_type": "markdown",
   "metadata": {},
   "source": [
    "### Defining exporting coordinate system and intermediate file"
   ]
  },
  {
   "cell_type": "code",
   "execution_count": 11,
   "metadata": {},
   "outputs": [],
   "source": [
    "dst_proj = 'EPSG:4326'\n",
    "intermediate_format = 'Gtiff'\n",
    "dst_path = 'City_reprojected.tif'"
   ]
  },
  {
   "cell_type": "code",
   "execution_count": 12,
   "metadata": {},
   "outputs": [],
   "source": [
    "dst_ds = gdal.Warp(dst_path, path_tif, dstSRS=dst_proj,\n",
    "                        format=intermediate_format)"
   ]
  },
  {
   "cell_type": "markdown",
   "metadata": {},
   "source": [
    "### Writing data to disk"
   ]
  },
  {
   "cell_type": "code",
   "execution_count": 14,
   "metadata": {},
   "outputs": [],
   "source": [
    "arr = dst_ds.ReadAsArray()"
   ]
  },
  {
   "cell_type": "code",
   "execution_count": null,
   "metadata": {},
   "outputs": [],
   "source": [
    "gdal.WarpOptions()"
   ]
  },
  {
   "cell_type": "code",
   "execution_count": null,
   "metadata": {},
   "outputs": [],
   "source": [
    "plt.imshow(arr)"
   ]
  },
  {
   "cell_type": "code",
   "execution_count": 57,
   "metadata": {},
   "outputs": [
    {
     "ename": "AttributeError",
     "evalue": "'NoneType' object has no attribute 'FlushCache'",
     "output_type": "error",
     "traceback": [
      "\u001b[0;31m---------------------------------------------------------------------------\u001b[0m",
      "\u001b[0;31mAttributeError\u001b[0m                            Traceback (most recent call last)",
      "\u001b[0;32m<ipython-input-57-1131d3a419cf>\u001b[0m in \u001b[0;36m<module>\u001b[0;34m\u001b[0m\n\u001b[0;32m----> 1\u001b[0;31m \u001b[0mdst_ds\u001b[0m\u001b[0;34m.\u001b[0m\u001b[0mFlushCache\u001b[0m\u001b[0;34m(\u001b[0m\u001b[0;34m)\u001b[0m\u001b[0;34m\u001b[0m\u001b[0;34m\u001b[0m\u001b[0m\n\u001b[0m",
      "\u001b[0;31mAttributeError\u001b[0m: 'NoneType' object has no attribute 'FlushCache'"
     ]
    }
   ],
   "source": [
    "dst_ds.FlushCache()"
   ]
  }
 ],
 "metadata": {
  "kernelspec": {
   "display_name": "Python 3",
   "language": "python",
   "name": "python3"
  },
  "language_info": {
   "codemirror_mode": {
    "name": "ipython",
    "version": 3
   },
   "file_extension": ".py",
   "mimetype": "text/x-python",
   "name": "python",
   "nbconvert_exporter": "python",
   "pygments_lexer": "ipython3",
   "version": "3.6.8"
  }
 },
 "nbformat": 4,
 "nbformat_minor": 2
}
