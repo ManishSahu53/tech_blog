{
 "cells": [
  {
   "cell_type": "code",
   "execution_count": 19,
   "metadata": {},
   "outputs": [],
   "source": [
    "import numpy as np\n",
    "import gdal\n",
    "import ogr"
   ]
  },
  {
   "cell_type": "code",
   "execution_count": 13,
   "metadata": {},
   "outputs": [],
   "source": [
    "path_tif = '../data/City.tif'"
   ]
  },
  {
   "cell_type": "code",
   "execution_count": 14,
   "metadata": {},
   "outputs": [],
   "source": [
    "path_shp = '../data/clip_shp.shp'\n",
    "path_proj_shp = '../data/clip_geo_shp.shp'"
   ]
  },
  {
   "cell_type": "code",
   "execution_count": 15,
   "metadata": {},
   "outputs": [],
   "source": [
    "src_ds = gdal.Open(path_tif)"
   ]
  },
  {
   "cell_type": "code",
   "execution_count": 36,
   "metadata": {},
   "outputs": [
    {
     "name": "stdout",
     "output_type": "stream",
     "text": [
      "Source raster dataset loaded\n"
     ]
    }
   ],
   "source": [
    "print('Source raster dataset loaded')"
   ]
  },
  {
   "cell_type": "code",
   "execution_count": 22,
   "metadata": {},
   "outputs": [],
   "source": [
    "dst_path = '../data/City_clipped.tif'"
   ]
  },
  {
   "cell_type": "code",
   "execution_count": null,
   "metadata": {},
   "outputs": [],
   "source": [
    "RasterFormat = 'GTiff'\n",
    "VectorFormat = 'ESRI Shapefile'"
   ]
  },
  {
   "cell_type": "code",
   "execution_count": 35,
   "metadata": {},
   "outputs": [
    {
     "name": "stdout",
     "output_type": "stream",
     "text": [
      "Done.\n"
     ]
    }
   ],
   "source": [
    "# Open datasets\n",
    "Projection = src_ds.GetProjectionRef()\n",
    "\n",
    "VectorDriver = ogr.GetDriverByName(VectorFormat)\n",
    "VectorDataset = VectorDriver.Open(path_shp, 0) # 0=Read-only, 1=Read-Write\n",
    "layer = VectorDataset.GetLayer()\n",
    "\n",
    "feature = layer.GetFeature(0)\n",
    "geom = feature.GetGeometryRef() \n",
    "minX, maxX, minY, maxY = geom.GetEnvelope() # Get bounding box of the shapefile feature\n",
    "\n",
    "OutTile = gdal.Warp(dst_path, src_ds, \n",
    "                    format=RasterFormat, \n",
    "                    dstSRS=Projection, \n",
    "                    cutlineDSName=path_shp,\n",
    "                    cropToCutline=True, \n",
    "                    multithread=True)\n",
    "\n",
    "OutTile.FlushCache()\n",
    "OutTile = None # Close dataset\n",
    "\n",
    "Raster = None\n",
    "VectorDataset.Destroy()\n",
    "print(\"Done.\")"
   ]
  },
  {
   "cell_type": "code",
   "execution_count": null,
   "metadata": {},
   "outputs": [],
   "source": [
    "# Open datasets\n",
    "Projection = src_ds.GetProjectionRef()\n",
    "\n",
    "VectorDriver = ogr.GetDriverByName(VectorFormat)\n",
    "VectorDataset = VectorDriver.Open(path_shp, 0) # 0=Read-only, 1=Read-Write\n",
    "layer = VectorDataset.GetLayer()\n",
    "\n",
    "feature = layer.GetFeature(0)\n",
    "geom = feature.GetGeometryRef() \n",
    "minX, maxX, minY, maxY = geom.GetEnvelope() # Get bounding box of the shapefile feature\n",
    "\n",
    "OutTile = gdal.Warp(dst_path, src_ds, \n",
    "                    format=RasterFormat, \n",
    "                    outputBounds=[minX, minY, maxX, maxY], \n",
    "                    dstSRS=Projection, \n",
    "                    cutlineDSName=path_shp,\n",
    "                    cropToCutline=True, \n",
    "                    multithread=True)\n",
    "\n",
    "OutTile.FlushCache()\n",
    "OutTile = None # Close dataset\n",
    "\n",
    "Raster = None\n",
    "VectorDataset.Destroy()\n",
    "print(\"Done.\")"
   ]
  },
  {
   "cell_type": "code",
   "execution_count": 7,
   "metadata": {},
   "outputs": [],
   "source": [
    "src_ds"
   ]
  },
  {
   "cell_type": "code",
   "execution_count": null,
   "metadata": {},
   "outputs": [],
   "source": [
    "dst_ds = gdal.Warp(dst_path, path_tif, dstSRS=dst_proj,\n",
    "                        format=intermediate_format, cutline=)"
   ]
  },
  {
   "cell_type": "code",
   "execution_count": 25,
   "metadata": {},
   "outputs": [
    {
     "ename": "AttributeError",
     "evalue": "'NoneType' object has no attribute 'FlushCache'",
     "output_type": "error",
     "traceback": [
      "\u001b[0;31m---------------------------------------------------------------------------\u001b[0m",
      "\u001b[0;31mAttributeError\u001b[0m                            Traceback (most recent call last)",
      "\u001b[0;32m<ipython-input-25-1c21f30544c5>\u001b[0m in \u001b[0;36m<module>\u001b[0;34m\u001b[0m\n\u001b[1;32m      6\u001b[0m               \u001b[0mcutlineLayer\u001b[0m \u001b[0;34m=\u001b[0m \u001b[0;34m'extent'\u001b[0m\u001b[0;34m,\u001b[0m\u001b[0;34m\u001b[0m\u001b[0;34m\u001b[0m\u001b[0m\n\u001b[1;32m      7\u001b[0m               dstNodata = 0)\n\u001b[0;32m----> 8\u001b[0;31m \u001b[0mds\u001b[0m\u001b[0;34m.\u001b[0m\u001b[0mFlushCache\u001b[0m\u001b[0;34m(\u001b[0m\u001b[0;34m)\u001b[0m\u001b[0;34m\u001b[0m\u001b[0;34m\u001b[0m\u001b[0m\n\u001b[0m\u001b[1;32m      9\u001b[0m \u001b[0mds\u001b[0m \u001b[0;34m=\u001b[0m \u001b[0;32mNone\u001b[0m\u001b[0;34m\u001b[0m\u001b[0;34m\u001b[0m\u001b[0m\n",
      "\u001b[0;31mAttributeError\u001b[0m: 'NoneType' object has no attribute 'FlushCache'"
     ]
    }
   ],
   "source": []
  },
  {
   "cell_type": "code",
   "execution_count": null,
   "metadata": {},
   "outputs": [],
   "source": []
  }
 ],
 "metadata": {
  "kernelspec": {
   "display_name": "Python 3",
   "language": "python",
   "name": "python3"
  },
  "language_info": {
   "codemirror_mode": {
    "name": "ipython",
    "version": 3
   },
   "file_extension": ".py",
   "mimetype": "text/x-python",
   "name": "python",
   "nbconvert_exporter": "python",
   "pygments_lexer": "ipython3",
   "version": "3.6.8"
  }
 },
 "nbformat": 4,
 "nbformat_minor": 2
}
